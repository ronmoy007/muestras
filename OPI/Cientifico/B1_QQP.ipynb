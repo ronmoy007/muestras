{
 "cells": [
  {
   "cell_type": "code",
   "execution_count": 1,
   "metadata": {},
   "outputs": [],
   "source": [
    "# Librerías\n",
    "import pandas as pd \n",
    "import numpy\n",
    "import matplotlib.pyplot as plt \n",
    "from pyspark import SparkContext\n",
    "from pyspark.sql import SparkSession\n",
    "from pyspark.sql import SQLContext"
   ]
  },
  {
   "cell_type": "code",
   "execution_count": 2,
   "metadata": {},
   "outputs": [],
   "source": [
    "spark = SparkSession.builder \\\n",
    "     .master(\"local\") \\\n",
    "     .appName(\"OPI_B1\") \\\n",
    "     .config(\"spark.some.config.option\", \"some-value\") \\\n",
    "     .getOrCreate()"
   ]
  },
  {
   "cell_type": "code",
   "execution_count": 3,
   "metadata": {},
   "outputs": [
    {
     "data": {
      "text/plain": [
       "['producto',\n",
       " 'presentacion',\n",
       " 'marca',\n",
       " 'categoria',\n",
       " 'catalogo',\n",
       " 'precio',\n",
       " 'fechaRegistro',\n",
       " 'cadenaComercial',\n",
       " 'giro',\n",
       " 'nombreComercial',\n",
       " 'direccion',\n",
       " 'estado',\n",
       " 'municipio',\n",
       " 'latitud',\n",
       " 'longitud']"
      ]
     },
     "execution_count": 3,
     "metadata": {},
     "output_type": "execute_result"
    }
   ],
   "source": [
    "df = spark.read.csv('all_data.csv', header='true')\n",
    "df.columns"
   ]
  },
  {
   "cell_type": "markdown",
   "metadata": {},
   "source": [
    "### 1. Procesamiento de los datos\n",
    "a. ¿Cuántos registros hay?\n",
    "\n",
    "La base de datos está compuesta por 62,530,715 registos "
   ]
  },
  {
   "cell_type": "code",
   "execution_count": 18,
   "metadata": {},
   "outputs": [
    {
     "name": "stdout",
     "output_type": "stream",
     "text": [
      "+--------+\n",
      "|count(1)|\n",
      "+--------+\n",
      "|62530715|\n",
      "+--------+\n",
      "\n"
     ]
    }
   ],
   "source": [
    "df.createOrReplaceTempView('Tabla')\n",
    "spark.sql(\n",
    "'''\n",
    "SELECT COUNT(*) \n",
    "FROM Tabla\n",
    "'''\n",
    ").show()"
   ]
  },
  {
   "cell_type": "markdown",
   "metadata": {},
   "source": [
    "b. ¿Cuántas categorías?\n",
    "\n",
    "Existen 41 categorías distintas"
   ]
  },
  {
   "cell_type": "code",
   "execution_count": 16,
   "metadata": {},
   "outputs": [
    {
     "name": "stdout",
     "output_type": "stream",
     "text": [
      "+-------------------------+\n",
      "|count(DISTINCT categoria)|\n",
      "+-------------------------+\n",
      "|                       41|\n",
      "+-------------------------+\n",
      "\n"
     ]
    }
   ],
   "source": [
    "spark.sql(\n",
    "'''\n",
    "SELECT COUNT(DISTINCT categoria) \n",
    "FROM Tabla\n",
    "'''\n",
    ").show()"
   ]
  },
  {
   "cell_type": "markdown",
   "metadata": {},
   "source": [
    "c. ¿Cuántas cadenas comerciales están siendo monitoreadas?\n",
    "\n",
    "A falta de saber alguna regla de negocio para saber cuáles cadenas comerciales están siendo monitoreadas, consideraré que todas las cadenas comerciales que aparecen en la base de datos están siendo monitoreadas: 705"
   ]
  },
  {
   "cell_type": "code",
   "execution_count": 17,
   "metadata": {},
   "outputs": [
    {
     "name": "stdout",
     "output_type": "stream",
     "text": [
      "+-------------------------------+\n",
      "|count(DISTINCT cadenaComercial)|\n",
      "+-------------------------------+\n",
      "|                            705|\n",
      "+-------------------------------+\n",
      "\n"
     ]
    }
   ],
   "source": [
    "spark.sql(\n",
    "'''\n",
    "SELECT COUNT(DISTINCT cadenaComercial) \n",
    "FROM Tabla\n",
    "'''\n",
    ").show()"
   ]
  },
  {
   "cell_type": "markdown",
   "metadata": {},
   "source": [
    "d. ¿Cómo podrías determinar la calidad de los datos? \n",
    "\n",
    "Nos podemos ayudar mediante el tipo de dato que se supone está contenido en cada columna, me explico:\n",
    "\n",
    "Si el deber ser es que la columna \"precio\" acepte únicamente valores numéricos, podríamos hacer una función de agregado, como por ejemplo un sum() con group by(), si el query finaliza correctamente, significa que no hay ningún caracter diferente a un número en esa columna, por lo que podríamos considerarla limpia (posiblemente haya ceros, habría que averiguar si eso es válido).\n",
    "\n",
    "De manera similar con las columna fechaRegistro, podríamos aplicarle un to_date() para tratar de dejar la columna en formato date, si todos los registros están capturados con el mismo formato de la máscara que especifiquemos, podremos considerar que la columna está limpia en cuanto a estructura (la validez de cada fecha registrada ya es un tema aparte).\n",
    "\n",
    "Eso podría ser desde un punto de vista técnico\n",
    "\n",
    "Otras maneras implican tener un conocimiento más profundo sobre el negocio para analizar la información y ver que no se esté violando ninguna regla de negocio. \n",
    "\n",
    "¿Detectaste algún tipo de inconsistencia o error en la fuente?\n",
    "\n",
    "Sí, conforme se avanza en los ejercicios es posible notar que los valores en la tabla están chuecos, me di cuenta que el municipio aparece en el campo de estado en algunos casos, además de que hay algunos valores nulos."
   ]
  },
  {
   "cell_type": "markdown",
   "metadata": {},
   "source": [
    "e. ¿Cuáles son los productos más monitoreados en cada entidad?\n",
    "\n",
    "Debajo del siguiente chunk de código, se muestra una tabla con los productos más monitoreados en cada entidad (asumiendo que por el simple hecho de estar en la tabla ya está siendo monitoreado)."
   ]
  },
  {
   "cell_type": "code",
   "execution_count": 32,
   "metadata": {},
   "outputs": [
    {
     "name": "stdout",
     "output_type": "stream",
     "text": [
      "+--------+-----------------------+--------------------+\n",
      "|contador|producto               |estado              |\n",
      "+--------+-----------------------+--------------------+\n",
      "|43904   |REFRESCO               |TLAXCALA            |\n",
      "|20      |producto               |estado              |\n",
      "|27868   |LECHE ULTRAPASTEURIZADA|QUERÉTARO           |\n",
      "|50307   |DETERGENTE P/ROPA      |NUEVO LEÓN          |\n",
      "|35991   |LECHE ULTRAPASTEURIZADA|YUCATÁN             |\n",
      "|18137   |REFRESCO               |HIDALGO             |\n",
      "|8003    |REFRESCO               |NAYARIT             |\n",
      "|20884   |DETERGENTE P/ROPA      |ZACATECAS           |\n",
      "|27770   |REFRESCO               |BAJA CALIFORNIA SUR |\n",
      "|40144   |DETERGENTE P/ROPA      |MICHOACÁN DE OCAMPO |\n",
      "|17193   |DETERGENTE P/ROPA      |COLIMA              |\n",
      "|15982   |DETERGENTE P/ROPA      |CHIHUAHUA           |\n",
      "|31597   |REFRESCO               |PUEBLA              |\n",
      "|275     |REFRESCO               | COL. EDUARDO GUERRA|\n",
      "|81718   |REFRESCO               |JALISCO             |\n",
      "|194939  |REFRESCO               |MÉXICO              |\n",
      "|28754   |REFRESCO               |TABASCO             |\n",
      "|9632    |REFRESCO               |MORELOS             |\n",
      "|8932    |REFRESCO               |GUERRERO            |\n",
      "|28613   |FUD                    |COAHUILA DE ZARAGOZA|\n",
      "+--------+-----------------------+--------------------+\n",
      "only showing top 20 rows\n",
      "\n"
     ]
    }
   ],
   "source": [
    "spark.sql(\n",
    "'''\n",
    "SELECT contador, producto, estado FROM (\n",
    "        SELECT COUNT(*) as contador\n",
    "                , producto\n",
    "                , estado \n",
    "        FROM Tabla \n",
    "        GROUP BY producto, estado\n",
    "        ) A\n",
    "        WHERE A.contador = (SELECT MAX(contador) FROM (SELECT COUNT(*) as contador\n",
    "                                                                , producto\n",
    "                                                                , estado \n",
    "                                                        FROM Tabla \n",
    "                                                        GROUP BY producto, estado) B\n",
    "                            WHERE A.estado=B.estado)\n",
    "'''\n",
    ").show(truncate=False)\n",
    "# Por lo visto, el límite de spark es de 20 filas para mostrar, tenemos que quitar este límite\n",
    "# para poder ver los registros de los 32 estados"
   ]
  },
  {
   "cell_type": "markdown",
   "metadata": {},
   "source": [
    "f. ¿Cuál es la cadena comercial con mayor variedad de productos monitoreados?\n",
    "\n",
    "De nuevo es importante definir a qué nos referimos cuando decimos variedad, porque una cadena comercial puede tener diversos tipos de productos pero bajo la misma categoría (como ABASTECEDORA LUMEN, que bajo la categoría de \"MATERIAL ESCOLAR\" tiene muchos productos). Pese a que los productos son diferentes, todos pertenecen a la misma categoría. \n",
    "\n",
    "Por lo tanto vamos a plantear los 2 escenarios:\n",
    "\n",
    "1) Diversidad cuando una cadena tiene diferentes categorías de productos (no es de sorprender que las cadenas de supermercados son las que aparecieron con la mayor diversidad, presentando un empate en primer lugar 18 cadenas):"
   ]
  },
  {
   "cell_type": "code",
   "execution_count": 46,
   "metadata": {},
   "outputs": [
    {
     "name": "stdout",
     "output_type": "stream",
     "text": [
      "+--------+--------------------+\n",
      "|contador|     cadenaComercial|\n",
      "+--------+--------------------+\n",
      "|      41|            CHEDRAUI|\n",
      "|      41|              H.E.B.|\n",
      "|      41|            WAL-MART|\n",
      "|      41|        SORIANA PLUS|\n",
      "|      41|BODEGA COMERCIAL ...|\n",
      "|      41|            I.M.S.S.|\n",
      "|      41|  COMERCIAL MEXICANA|\n",
      "|      41|  LEY (AUTOSERVICIO)|\n",
      "|      41|        I.S.S.S.T.E.|\n",
      "|      41|     MERCADO SORIANA|\n",
      "|      41|      MEGA COMERCIAL|\n",
      "|      41|             SORIANA|\n",
      "|      41|       SORIANA SUPER|\n",
      "|      41|            CASA LEY|\n",
      "|      41|MEGA COMERCIAL ME...|\n",
      "|      41|HIPERMERCADO SORIANA|\n",
      "|      41|      BODEGA AURRERA|\n",
      "|      41|   SUPERMERCADOS LEY|\n",
      "|      40|            SUPERAMA|\n",
      "|      40|              S MART|\n",
      "+--------+--------------------+\n",
      "only showing top 20 rows\n",
      "\n"
     ]
    }
   ],
   "source": [
    "spark.sql(\n",
    "'''\n",
    "SELECT COUNT(*) contador, A.cadenaComercial FROM (\n",
    "                                        SELECT categoria, cadenaComercial FROM Tabla\n",
    "                                        GROUP BY categoria, cadenaComercial\n",
    "                                        ) A\n",
    "        GROUP BY cadenaComercial\n",
    "        ORDER BY contador desc\n",
    "'''\n",
    ").show()"
   ]
  },
  {
   "cell_type": "markdown",
   "metadata": {},
   "source": [
    "2) Por otra parte, si tomamos como diversidad de productos al producto como tal sin imoprtar la categoría, de nueva cuenta aparecen las grandes cadenas de super-mercados (en este caso SORIANA quedó en primer lugar)"
   ]
  },
  {
   "cell_type": "code",
   "execution_count": 47,
   "metadata": {},
   "outputs": [
    {
     "name": "stdout",
     "output_type": "stream",
     "text": [
      "+--------+--------------------+\n",
      "|contador|     cadenaComercial|\n",
      "+--------+--------------------+\n",
      "|    1059|             SORIANA|\n",
      "|    1051|            WAL-MART|\n",
      "|    1049|MEGA COMERCIAL ME...|\n",
      "|    1036|  COMERCIAL MEXICANA|\n",
      "|    1026|            CHEDRAUI|\n",
      "|    1024|     MERCADO SORIANA|\n",
      "|    1012|      BODEGA AURRERA|\n",
      "|    1006|HIPERMERCADO SORIANA|\n",
      "|    1001|              H.E.B.|\n",
      "|     999|        SORIANA PLUS|\n",
      "|     996|       SORIANA SUPER|\n",
      "|     979|BODEGA COMERCIAL ...|\n",
      "|     937|        I.S.S.S.T.E.|\n",
      "|     936|            SUPERAMA|\n",
      "|     851|              S MART|\n",
      "|     849|SUPERMERCADOS SAN...|\n",
      "|     848|              SUMESA|\n",
      "|     844|         CITY MARKET|\n",
      "|     819|FARMACIA GUADALAJARA|\n",
      "|     808|            CASA LEY|\n",
      "+--------+--------------------+\n",
      "only showing top 20 rows\n",
      "\n"
     ]
    }
   ],
   "source": [
    "spark.sql(\n",
    "'''\n",
    "SELECT COUNT(*) contador, A.cadenaComercial FROM (\n",
    "                                        SELECT producto, cadenaComercial FROM Tabla\n",
    "                                        GROUP BY producto, cadenaComercial\n",
    "                                        ) A\n",
    "        GROUP BY cadenaComercial\n",
    "        ORDER BY contador desc\n",
    "'''\n",
    ").show()"
   ]
  },
  {
   "cell_type": "markdown",
   "metadata": {},
   "source": [
    "### 2. Análisis exploratorio\n",
    "a. Genera una canasta de productos básicos que te permita comparar los precios\n",
    "geográfica y temporalmente. Justifica tu elección y procedimiento\n",
    "\n",
    "Mi elección se basó en tomar algunos de los elementos de la canasta básica en México que extraje de la siguiente liga: https://www.animalgourmet.com/2019/01/30/canasta-basica-mexico/\n",
    "\n",
    "La lista completa es\n",
    "1. Maíz\n",
    "2. Azúcar\n",
    "3. Frijol\n",
    "4. Arroz\n",
    "5. Harina de maíz\n",
    "6. Aceite vegetal\n",
    "7. Chiles jalapeños, rajas y chipotles\n",
    "8. Leche en polvo\n",
    "9. Atún\n",
    "10. Sardina\n",
    "11. Sal de mesa\n",
    "12. Café soluble\n",
    "13. Chocolate en polvo\n",
    "14. Galletas marías, de animalitos o saladas\n",
    "15. Harina de trigo\n",
    "16. Pasta para sopa\n",
    "17. Avena\n",
    "18. Lentejas\n",
    "19. Detergente en polvo\n",
    "20. Jabón de lavandería\n",
    "21. Pasta de dientes\n",
    "22. Jabón de tocador\n",
    "23. Papel higiénico\n",
    "\n",
    "Y los que tomaremos para la prueba son:\n",
    "\n",
    "1. Maíz\n",
    "4. Arroz\n",
    "8. Leche en polvo\n",
    "12. Café soluble\n",
    "16. Pasta para sopa\n",
    "17. Avena\n",
    "20. Jabón de lavandería\n",
    "21. Pasta de dientes\n",
    "22. Jabón de tocador\n",
    "23. Papel higiénico\n",
    "\n",
    "Mi elección de estos productos, es porque considero que dichos productos cubren los aspectos de: higiene y comida. \n",
    "\n",
    "Mi procedimiento será ejecutar queries a la base de datos buscando por el nombre del producto e ir ajustando el nombre del producto conforme vaya obteniendo resultados e ir echando un vistazo a cómo está la base"
   ]
  },
  {
   "cell_type": "code",
   "execution_count": 81,
   "metadata": {},
   "outputs": [
    {
     "name": "stdout",
     "output_type": "stream",
     "text": [
      "+----------------+--------------------+---------------------------+\n",
      "|        producto|              estado|avg(CAST(precio AS DOUBLE))|\n",
      "+----------------+--------------------+---------------------------+\n",
      "|TORTILLA DE MAIZ|       ESQ. SUR 125\"|                       11.0|\n",
      "|TORTILLA DE MAIZ|      AGUASCALIENTES|         10.677146171693737|\n",
      "|TORTILLA DE MAIZ|     BAJA CALIFORNIA|         13.178771820448878|\n",
      "|TORTILLA DE MAIZ| BAJA CALIFORNIA SUR|         12.865167498218108|\n",
      "|TORTILLA DE MAIZ|            CAMPECHE|         12.204763918252286|\n",
      "|TORTILLA DE MAIZ|             CHIAPAS|         11.000996282527877|\n",
      "|TORTILLA DE MAIZ|           CHIHUAHUA|         11.921376068376066|\n",
      "|TORTILLA DE MAIZ|COAHUILA DE ZARAGOZA|         11.091259961231955|\n",
      "|TORTILLA DE MAIZ|              COLIMA|          12.02032338014872|\n",
      "|TORTILLA DE MAIZ|    DISTRITO FEDERAL|         10.500537028660721|\n",
      "|TORTILLA DE MAIZ|             DURANGO|         10.764948006932404|\n",
      "|TORTILLA DE MAIZ|          GUANAJUATO|         10.419913931604311|\n",
      "|TORTILLA DE MAIZ|            GUERRERO|         11.593177441540579|\n",
      "|TORTILLA DE MAIZ|             HIDALGO|          10.54863411181883|\n",
      "|TORTILLA DE MAIZ|             JALISCO|          11.03400350007292|\n",
      "|TORTILLA DE MAIZ| MICHOACÁN DE OCAMPO|         11.201043968781397|\n",
      "|TORTILLA DE MAIZ|             MORELOS|         11.544352159468442|\n",
      "|TORTILLA DE MAIZ|              MÉXICO|         10.454859862909371|\n",
      "|TORTILLA DE MAIZ|             NAYARIT|         12.852287066246054|\n",
      "|TORTILLA DE MAIZ|          NUEVO LEÓN|         12.508806971017242|\n",
      "|TORTILLA DE MAIZ|              OAXACA|          11.33429849443595|\n",
      "|TORTILLA DE MAIZ|              PUEBLA|         10.120564891176288|\n",
      "|TORTILLA DE MAIZ|           QUERÉTARO|         12.178262221790268|\n",
      "|TORTILLA DE MAIZ|        QUINTANA ROO|         12.678965299684547|\n",
      "|TORTILLA DE MAIZ|     SAN LUIS POTOSÍ|         10.949016393442625|\n",
      "|TORTILLA DE MAIZ|             SINALOA|          12.40952027082817|\n",
      "|TORTILLA DE MAIZ|              SONORA|         14.191354086926935|\n",
      "|TORTILLA DE MAIZ|             TABASCO|         12.925211689237353|\n",
      "|TORTILLA DE MAIZ|          TAMAULIPAS|         11.739769036448937|\n",
      "|TORTILLA DE MAIZ|            TLAXCALA|          9.975519060585436|\n",
      "|TORTILLA DE MAIZ|VERACRUZ DE IGNAC...|         11.430886810706227|\n",
      "|TORTILLA DE MAIZ|             YUCATÁN|         12.707784929685857|\n",
      "|TORTILLA DE MAIZ|           ZACATECAS|         10.525432308064916|\n",
      "+----------------+--------------------+---------------------------+\n",
      "\n"
     ]
    }
   ],
   "source": [
    "spark.sql(\n",
    "'''\n",
    "SELECT producto, estado, AVG(precio) FROM Tabla\n",
    "WHERE producto = 'TORTILLA DE MAIZ'\n",
    "AND estado NOT IN ('COL. EDUARDO GUERRA',' COL. EDUARDO GUERRA')\n",
    "GROUP BY producto, estado\n",
    "ORDER BY estado\n",
    "'''\n",
    ").show(40)"
   ]
  },
  {
   "cell_type": "code",
   "execution_count": 82,
   "metadata": {},
   "outputs": [
    {
     "name": "stdout",
     "output_type": "stream",
     "text": [
      "+--------+--------------------+---------------------------+\n",
      "|producto|              estado|avg(CAST(precio AS DOUBLE))|\n",
      "+--------+--------------------+---------------------------+\n",
      "|   ARROZ|      AGUASCALIENTES|          15.44374545454545|\n",
      "|   ARROZ|     BAJA CALIFORNIA|          16.31233333333333|\n",
      "|   ARROZ| BAJA CALIFORNIA SUR|         15.515476595744678|\n",
      "|   ARROZ|            CAMPECHE|         15.003935802469131|\n",
      "|   ARROZ|             CHIAPAS|          14.46720151014629|\n",
      "|   ARROZ|           CHIHUAHUA|         15.341243105642763|\n",
      "|   ARROZ|COAHUILA DE ZARAGOZA|          15.62060876161577|\n",
      "|   ARROZ|              COLIMA|         15.838562241616913|\n",
      "|   ARROZ|    DISTRITO FEDERAL|         16.234147984968274|\n",
      "|   ARROZ|             DURANGO|         15.743647604327663|\n",
      "|   ARROZ|          GUANAJUATO|         16.199112157390275|\n",
      "|   ARROZ|            GUERRERO|         16.007272131147538|\n",
      "|   ARROZ|             HIDALGO|         16.405257270693514|\n",
      "|   ARROZ|             JALISCO|          16.28030421815084|\n",
      "|   ARROZ| MICHOACÁN DE OCAMPO|          16.30134268537074|\n",
      "|   ARROZ|             MORELOS|          15.38610724233983|\n",
      "|   ARROZ|              MÉXICO|         15.859324589046933|\n",
      "|   ARROZ|             NAYARIT|         15.638297604035312|\n",
      "|   ARROZ|          NUEVO LEÓN|         15.692870067206618|\n",
      "|   ARROZ|              OAXACA|         14.838096109839821|\n",
      "|   ARROZ|              PUEBLA|           15.6909659345585|\n",
      "|   ARROZ|           QUERÉTARO|         16.162387285843113|\n",
      "|   ARROZ|        QUINTANA ROO|         15.358288033886343|\n",
      "|   ARROZ|     SAN LUIS POTOSÍ|         15.703007117437721|\n",
      "|   ARROZ|             SINALOA|         16.858812411847673|\n",
      "|   ARROZ|              SONORA|         16.090428191489366|\n",
      "|   ARROZ|             TABASCO|         15.175565636518282|\n",
      "|   ARROZ|          TAMAULIPAS|         15.525318844724044|\n",
      "|   ARROZ|            TLAXCALA|           16.5247013372957|\n",
      "|   ARROZ|VERACRUZ DE IGNAC...|         15.016342909256725|\n",
      "|   ARROZ|             YUCATÁN|          16.29537037037037|\n",
      "|   ARROZ|           ZACATECAS|         16.219498055850128|\n",
      "+--------+--------------------+---------------------------+\n",
      "\n"
     ]
    }
   ],
   "source": [
    "spark.sql(\n",
    "'''\n",
    "SELECT producto, estado, AVG(precio) FROM Tabla\n",
    "WHERE producto = 'ARROZ'\n",
    "AND estado NOT IN ('COL. EDUARDO GUERRA',' COL. EDUARDO GUERRA')\n",
    "AND estado is not NULL\n",
    "GROUP BY producto, estado\n",
    "ORDER BY estado\n",
    "'''\n",
    ").show(40)"
   ]
  },
  {
   "cell_type": "code",
   "execution_count": 83,
   "metadata": {},
   "outputs": [
    {
     "name": "stdout",
     "output_type": "stream",
     "text": [
      "+----------------+--------------------+---------------------------+\n",
      "|        producto|              estado|avg(CAST(precio AS DOUBLE))|\n",
      "+----------------+--------------------+---------------------------+\n",
      "|JABON DE TOCADOR|      AGUASCALIENTES|         11.629121756487029|\n",
      "|JABON DE TOCADOR|     BAJA CALIFORNIA|         12.803907237846097|\n",
      "|JABON DE TOCADOR| BAJA CALIFORNIA SUR|         12.679502304867576|\n",
      "|JABON DE TOCADOR|            CAMPECHE|         12.178285827919924|\n",
      "|JABON DE TOCADOR|             CHIAPAS|          11.84136334651193|\n",
      "|JABON DE TOCADOR|           CHIHUAHUA|         12.533713620488948|\n",
      "|JABON DE TOCADOR|COAHUILA DE ZARAGOZA|         12.050133912956593|\n",
      "|JABON DE TOCADOR|              COLIMA|         11.724857873364416|\n",
      "|JABON DE TOCADOR|    DISTRITO FEDERAL|         11.562145678232921|\n",
      "|JABON DE TOCADOR|             DURANGO|         12.191551812805344|\n",
      "|JABON DE TOCADOR|          GUANAJUATO|          11.56959048827834|\n",
      "|JABON DE TOCADOR|            GUERRERO|         12.333356548655447|\n",
      "|JABON DE TOCADOR|             HIDALGO|         11.263601451721803|\n",
      "|JABON DE TOCADOR|             JALISCO|         11.293047865787381|\n",
      "|JABON DE TOCADOR| MICHOACÁN DE OCAMPO|         11.086302924309592|\n",
      "|JABON DE TOCADOR|             MORELOS|          12.24954444444444|\n",
      "|JABON DE TOCADOR|              MÉXICO|         11.479568992088748|\n",
      "|JABON DE TOCADOR|             NAYARIT|         12.662918803418801|\n",
      "|JABON DE TOCADOR|          NUEVO LEÓN|         11.653630664377513|\n",
      "|JABON DE TOCADOR|              OAXACA|         11.308512873911395|\n",
      "|JABON DE TOCADOR|              PUEBLA|         11.528086223932602|\n",
      "|JABON DE TOCADOR|           QUERÉTARO|         11.348559148587803|\n",
      "|JABON DE TOCADOR|        QUINTANA ROO|         11.762259265749584|\n",
      "|JABON DE TOCADOR|     SAN LUIS POTOSÍ|         12.271507278134292|\n",
      "|JABON DE TOCADOR|             SINALOA|         11.873380379683939|\n",
      "|JABON DE TOCADOR|              SONORA|          12.33476021995823|\n",
      "|JABON DE TOCADOR|             TABASCO|          11.16917796482032|\n",
      "|JABON DE TOCADOR|          TAMAULIPAS|         12.459153026154837|\n",
      "|JABON DE TOCADOR|            TLAXCALA|         11.395452755270037|\n",
      "|JABON DE TOCADOR|VERACRUZ DE IGNAC...|          11.38198691255205|\n",
      "|JABON DE TOCADOR|             YUCATÁN|         11.468734742757135|\n",
      "|JABON DE TOCADOR|           ZACATECAS|         11.640393695843278|\n",
      "+----------------+--------------------+---------------------------+\n",
      "\n"
     ]
    }
   ],
   "source": [
    "spark.sql(\n",
    "'''\n",
    "SELECT producto, estado, avg(precio) FROM Tabla\n",
    "WHERE producto = 'JABON DE TOCADOR'\n",
    "AND estado is not NULL\n",
    "AND estado NOT IN ('COL. EDUARDO GUERRA',' COL. EDUARDO GUERRA')\n",
    "GROUP BY producto, estado\n",
    "ORDER BY estado\n",
    "'''\n",
    ").show(40)"
   ]
  },
  {
   "cell_type": "code",
   "execution_count": 84,
   "metadata": {},
   "outputs": [
    {
     "name": "stdout",
     "output_type": "stream",
     "text": [
      "+------------+--------------------+---------------------------+\n",
      "|    producto|              estado|avg(CAST(precio AS DOUBLE))|\n",
      "+------------+--------------------+---------------------------+\n",
      "|CAFE SOLUBLE|      AGUASCALIENTES|          47.23466049990159|\n",
      "|CAFE SOLUBLE|     BAJA CALIFORNIA|          49.87659131363473|\n",
      "|CAFE SOLUBLE| BAJA CALIFORNIA SUR|         49.453608582574766|\n",
      "|CAFE SOLUBLE|            CAMPECHE|         47.306037186379925|\n",
      "|CAFE SOLUBLE|             CHIAPAS|         47.793080151908875|\n",
      "|CAFE SOLUBLE|           CHIHUAHUA|          50.41494650410547|\n",
      "|CAFE SOLUBLE|COAHUILA DE ZARAGOZA|          50.11465650120159|\n",
      "|CAFE SOLUBLE|              COLIMA|           49.7774469849544|\n",
      "|CAFE SOLUBLE|    DISTRITO FEDERAL|         49.348395190980305|\n",
      "|CAFE SOLUBLE|             DURANGO|         49.434653218495036|\n",
      "|CAFE SOLUBLE|          GUANAJUATO|          48.33522773582646|\n",
      "|CAFE SOLUBLE|            GUERRERO|          46.71030919220058|\n",
      "|CAFE SOLUBLE|             HIDALGO|          48.18663496376814|\n",
      "|CAFE SOLUBLE|             JALISCO|          48.81157914034295|\n",
      "|CAFE SOLUBLE| MICHOACÁN DE OCAMPO|          48.91241868071961|\n",
      "|CAFE SOLUBLE|             MORELOS|          47.82782863041982|\n",
      "|CAFE SOLUBLE|              MÉXICO|          48.45256552819701|\n",
      "|CAFE SOLUBLE|             NAYARIT|           47.9009506762132|\n",
      "|CAFE SOLUBLE|          NUEVO LEÓN|          49.34820628469467|\n",
      "|CAFE SOLUBLE|              OAXACA|          48.27663921145018|\n",
      "|CAFE SOLUBLE|              PUEBLA|          48.61145415174482|\n",
      "|CAFE SOLUBLE|           QUERÉTARO|         48.558706940437794|\n",
      "|CAFE SOLUBLE|        QUINTANA ROO|          47.65338083182639|\n",
      "|CAFE SOLUBLE|     SAN LUIS POTOSÍ|          48.30844416562106|\n",
      "|CAFE SOLUBLE|             SINALOA|         49.689761660925406|\n",
      "|CAFE SOLUBLE|              SONORA|          50.07576357254872|\n",
      "|CAFE SOLUBLE|             TABASCO|          47.97854126126122|\n",
      "|CAFE SOLUBLE|          TAMAULIPAS|          49.92174627952958|\n",
      "|CAFE SOLUBLE|            TLAXCALA|           48.8300199760288|\n",
      "|CAFE SOLUBLE|VERACRUZ DE IGNAC...|         47.240072522159565|\n",
      "|CAFE SOLUBLE|             YUCATÁN|           48.2158877975066|\n",
      "|CAFE SOLUBLE|           ZACATECAS|           48.4226118372118|\n",
      "+------------+--------------------+---------------------------+\n",
      "\n"
     ]
    }
   ],
   "source": [
    "spark.sql(\n",
    "'''\n",
    "SELECT producto, estado, AVG(precio) FROM Tabla\n",
    "WHERE producto = 'CAFE SOLUBLE'\n",
    "AND estado is not NULL\n",
    "AND estado NOT IN ('COL. EDUARDO GUERRA',' COL. EDUARDO GUERRA')\n",
    "GROUP BY producto, estado\n",
    "ORDER BY estado\n",
    "'''\n",
    ").show(40)"
   ]
  },
  {
   "cell_type": "code",
   "execution_count": 80,
   "metadata": {},
   "outputs": [
    {
     "name": "stdout",
     "output_type": "stream",
     "text": [
      "+--------+--------------------+---------------------------+\n",
      "|producto|              estado|avg(CAST(precio AS DOUBLE))|\n",
      "+--------+--------------------+---------------------------+\n",
      "|   AVENA|      AGUASCALIENTES|         20.796043956043953|\n",
      "|   AVENA|     BAJA CALIFORNIA|         23.463725828068164|\n",
      "|   AVENA| BAJA CALIFORNIA SUR|         23.447436905932477|\n",
      "|   AVENA|            CAMPECHE|         22.347740585774055|\n",
      "|   AVENA|             CHIAPAS|          22.68960089938168|\n",
      "|   AVENA|           CHIHUAHUA|         25.182150878203277|\n",
      "|   AVENA|COAHUILA DE ZARAGOZA|         23.145824526420736|\n",
      "|   AVENA|              COLIMA|         21.297950377562014|\n",
      "|   AVENA|    DISTRITO FEDERAL|           20.6520749733191|\n",
      "|   AVENA|             DURANGO|         20.467755466309665|\n",
      "|   AVENA|          GUANAJUATO|         20.110086313193587|\n",
      "|   AVENA|            GUERRERO|         22.897755406413125|\n",
      "|   AVENA|             HIDALGO|         18.975141395908555|\n",
      "|   AVENA|             JALISCO|         19.276016331110146|\n",
      "|   AVENA| MICHOACÁN DE OCAMPO|         20.520601979109397|\n",
      "|   AVENA|             MORELOS|         23.360564814814825|\n",
      "|   AVENA|              MÉXICO|         20.557692094203478|\n",
      "|   AVENA|             NAYARIT|         22.037197132616487|\n",
      "|   AVENA|          NUEVO LEÓN|          22.04364395559629|\n",
      "|   AVENA|              OAXACA|         20.087479882955368|\n",
      "|   AVENA|              PUEBLA|          20.20291753951627|\n",
      "|   AVENA|           QUERÉTARO|         19.128355310049884|\n",
      "|   AVENA|        QUINTANA ROO|          21.15492210321324|\n",
      "|   AVENA|     SAN LUIS POTOSÍ|         22.761946847960452|\n",
      "|   AVENA|             SINALOA|          21.58926426724994|\n",
      "|   AVENA|              SONORA|          22.86409620751929|\n",
      "|   AVENA|             TABASCO|         21.099114449495943|\n",
      "|   AVENA|          TAMAULIPAS|         23.004837362637357|\n",
      "|   AVENA|            TLAXCALA|         18.935724891441367|\n",
      "|   AVENA|VERACRUZ DE IGNAC...|         20.930402877697837|\n",
      "|   AVENA|             YUCATÁN|         20.404118446895303|\n",
      "|   AVENA|           ZACATECAS|         19.824041922088195|\n",
      "+--------+--------------------+---------------------------+\n",
      "\n"
     ]
    }
   ],
   "source": [
    "spark.sql(\n",
    "'''\n",
    "SELECT producto, estado, avg(precio) FROM Tabla\n",
    "WHERE producto = 'AVENA'\n",
    "AND estado is not NULL\n",
    "AND estado NOT IN ('COL. EDUARDO GUERRA',' COL. EDUARDO GUERRA')\n",
    "GROUP BY producto, estado\n",
    "ORDER BY estado\n",
    "'''\n",
    ").show(40);"
   ]
  },
  {
   "cell_type": "markdown",
   "metadata": {},
   "source": [
    "De los 10 artículos que tenía contemplados para la canasta básica, decidí dejarlo en 5, debido a la tardanza de ejecución de los queries (no me parecen queries muy complejos, pero a mi máquina tal vez le está costando trabajar con esa base).\n",
    "\n",
    "Los 5 productos que decidí lejar son los siguientes:\n",
    "\n",
    "1. AVENA\n",
    "2. CAFE SOLUBLE\n",
    "3. ABON DE TOCADOR\n",
    "4. ARROZ\n",
    "5. TORTILLA DE MAIZ\n",
    "\n",
    "Y mediante el siguiente query se obtendrá el promedio de precio de cada producto por estad, y posteriormente se sumarán dichos promedios para obtener el precio de lo que costaría la canasta básica antes mencionada."
   ]
  },
  {
   "cell_type": "code",
   "execution_count": 85,
   "metadata": {},
   "outputs": [
    {
     "name": "stdout",
     "output_type": "stream",
     "text": [
      "+--------------------+------------------+\n",
      "|              estado|       sum(precio)|\n",
      "+--------------------+------------------+\n",
      "|       ESQ. SUR 125\"|              11.0|\n",
      "|      AGUASCALIENTES| 94.15159608218472|\n",
      "|     BAJA CALIFORNIA|102.83142229548508|\n",
      "| BAJA CALIFORNIA SUR|101.28168958247002|\n",
      "|            CAMPECHE| 96.86247749287539|\n",
      "|             CHIAPAS| 95.95087884396472|\n",
      "|           CHIHUAHUA|102.85971655632757|\n",
      "|COAHUILA DE ZARAGOZA| 99.97234975047006|\n",
      "|              COLIMA| 98.93428298428206|\n",
      "|    DISTRITO FEDERAL|  96.7351551779284|\n",
      "|             DURANGO| 96.41100429606477|\n",
      "|          GUANAJUATO| 95.06434013801463|\n",
      "|            GUERRERO| 97.20851417130183|\n",
      "|             HIDALGO| 94.11566774218903|\n",
      "|             JALISCO| 95.40190318967684|\n",
      "| MICHOACÁN DE OCAMPO| 96.93540731398114|\n",
      "|             MORELOS| 98.11885284704292|\n",
      "|              MÉXICO|  95.3244420743568|\n",
      "|             NAYARIT| 98.42873247911105|\n",
      "|          NUEVO LEÓN| 99.59352727851481|\n",
      "|              OAXACA| 94.53651369868132|\n",
      "|              PUEBLA|  94.6259025169959|\n",
      "|           QUERÉTARO| 96.02771175812106|\n",
      "|        QUINTANA ROO| 96.84555626861052|\n",
      "|     SAN LUIS POTOSÍ| 97.72241452446187|\n",
      "|             SINALOA|100.54735861085118|\n",
      "|              SONORA|103.22164205848432|\n",
      "|             TABASCO|  97.1784330365128|\n",
      "|          TAMAULIPAS|100.19167152333992|\n",
      "|            TLAXCALA| 94.26596526535131|\n",
      "|VERACRUZ DE IGNAC...| 94.61770511982036|\n",
      "|             YUCATÁN| 97.62316154445813|\n",
      "|           ZACATECAS| 94.99158412321503|\n",
      "+--------------------+------------------+\n",
      "\n"
     ]
    }
   ],
   "source": [
    "spark.sql(\n",
    "'''\n",
    "SELECT A.estado, sum(A.precio) FROM (\n",
    "                SELECT producto, estado, avg(precio) precio FROM Tabla\n",
    "                WHERE producto IN ('AVENA','CAFE SOLUBLE','ABON DE TOCADOR','ARROZ','TORTILLA DE MAIZ')\n",
    "                AND estado is not NULL\n",
    "                AND estado NOT IN ('COL. EDUARDO GUERRA',' COL. EDUARDO GUERRA')\n",
    "                GROUP BY producto, estado\n",
    "                ORDER BY estado\n",
    "                ) A\n",
    "GROUP BY A.estado\n",
    "'''\n",
    ").show(40);"
   ]
  },
  {
   "cell_type": "markdown",
   "metadata": {},
   "source": [
    "b. ¿Cuál es la ciudad más cara del país? ¿Cuál es la más barata?\n",
    "\n",
    "Conforme a la consulta anterior, la ciudad más cara del país en cuanto a productos es Sonora, mientras que la más barata es aguascalientes"
   ]
  },
  {
   "cell_type": "markdown",
   "metadata": {},
   "source": [
    "c. ¿Hay algún patrón estacional entre años?\n",
    "\n",
    "En general a lo largo del año van subiendo los precios de todos los productos, por lo que a inicio de año es más común encontrar \"precios bajos\" en comparación a los precios que se manejarán en diciembre.\n",
    "\n",
    "Esto se debe a los ajustes inflacionarios que se realizan a lo largo del año, los cuales prácticamente son una constante, en ese sentido, no sé si cuente como patrón estacional puesto que siempre tiende hacia arriba.\n",
    "\n",
    "En el siguiente chunk de código se muestra el query correspondiente a este punto"
   ]
  },
  {
   "cell_type": "code",
   "execution_count": 101,
   "metadata": {},
   "outputs": [
    {
     "name": "stdout",
     "output_type": "stream",
     "text": [
      "+------------------+----------------+----------------+----+---+\n",
      "|            precio|        producto|          estado|anio|mes|\n",
      "+------------------+----------------+----------------+----+---+\n",
      "|14.790818713450292|           ARROZ|DISTRITO FEDERAL|2011| 01|\n",
      "|17.211827411167512|           AVENA|DISTRITO FEDERAL|2011| 01|\n",
      "| 42.60177215189874|    CAFE SOLUBLE|DISTRITO FEDERAL|2011| 01|\n",
      "| 9.726635325721961|JABON DE TOCADOR|DISTRITO FEDERAL|2011| 01|\n",
      "| 8.459247648902823|TORTILLA DE MAIZ|DISTRITO FEDERAL|2011| 01|\n",
      "|14.316445182724253|           ARROZ|DISTRITO FEDERAL|2011| 02|\n",
      "|16.894213333333337|           AVENA|DISTRITO FEDERAL|2011| 02|\n",
      "| 44.56351774530271|    CAFE SOLUBLE|DISTRITO FEDERAL|2011| 02|\n",
      "| 9.746635220125789|JABON DE TOCADOR|DISTRITO FEDERAL|2011| 02|\n",
      "| 8.551330798479087|TORTILLA DE MAIZ|DISTRITO FEDERAL|2011| 02|\n",
      "|14.462762148337594|           ARROZ|DISTRITO FEDERAL|2011| 03|\n",
      "|17.429297872340424|           AVENA|DISTRITO FEDERAL|2011| 03|\n",
      "|  44.9780172413793|    CAFE SOLUBLE|DISTRITO FEDERAL|2011| 03|\n",
      "| 9.687775735294117|JABON DE TOCADOR|DISTRITO FEDERAL|2011| 03|\n",
      "|  9.00339943342776|TORTILLA DE MAIZ|DISTRITO FEDERAL|2011| 03|\n",
      "|14.883678756476685|           ARROZ|DISTRITO FEDERAL|2011| 04|\n",
      "|17.627521008403363|           AVENA|DISTRITO FEDERAL|2011| 04|\n",
      "|  44.5471416159861|    CAFE SOLUBLE|DISTRITO FEDERAL|2011| 04|\n",
      "| 9.552870485678703|JABON DE TOCADOR|DISTRITO FEDERAL|2011| 04|\n",
      "| 9.180434782608696|TORTILLA DE MAIZ|DISTRITO FEDERAL|2011| 04|\n",
      "|15.133752808988763|           ARROZ|DISTRITO FEDERAL|2011| 05|\n",
      "| 17.47188888888889|           AVENA|DISTRITO FEDERAL|2011| 05|\n",
      "| 44.90401129943503|    CAFE SOLUBLE|DISTRITO FEDERAL|2011| 05|\n",
      "| 9.639338609383834|JABON DE TOCADOR|DISTRITO FEDERAL|2011| 05|\n",
      "| 9.031147540983609|TORTILLA DE MAIZ|DISTRITO FEDERAL|2011| 05|\n",
      "|15.307763157894735|           ARROZ|DISTRITO FEDERAL|2011| 06|\n",
      "|17.936603773584906|           AVENA|DISTRITO FEDERAL|2011| 06|\n",
      "|46.776036866359426|    CAFE SOLUBLE|DISTRITO FEDERAL|2011| 06|\n",
      "| 9.671522287636668|JABON DE TOCADOR|DISTRITO FEDERAL|2011| 06|\n",
      "| 9.211825192802056|TORTILLA DE MAIZ|DISTRITO FEDERAL|2011| 06|\n",
      "|14.949099099099099|           ARROZ|DISTRITO FEDERAL|2011| 07|\n",
      "|17.547030651340997|           AVENA|DISTRITO FEDERAL|2011| 07|\n",
      "|46.467809820732654|    CAFE SOLUBLE|DISTRITO FEDERAL|2011| 07|\n",
      "| 9.561960784313728|JABON DE TOCADOR|DISTRITO FEDERAL|2011| 07|\n",
      "| 9.260089020771515|TORTILLA DE MAIZ|DISTRITO FEDERAL|2011| 07|\n",
      "|15.397964824120601|           ARROZ|DISTRITO FEDERAL|2011| 08|\n",
      "|17.408867102396513|           AVENA|DISTRITO FEDERAL|2011| 08|\n",
      "| 45.59588827838828|    CAFE SOLUBLE|DISTRITO FEDERAL|2011| 08|\n",
      "| 9.909362455726093|JABON DE TOCADOR|DISTRITO FEDERAL|2011| 08|\n",
      "| 9.300803858520899|TORTILLA DE MAIZ|DISTRITO FEDERAL|2011| 08|\n",
      "|15.559708737864076|           ARROZ|DISTRITO FEDERAL|2011| 09|\n",
      "|17.843864541832666|           AVENA|DISTRITO FEDERAL|2011| 09|\n",
      "|46.777230008244025|    CAFE SOLUBLE|DISTRITO FEDERAL|2011| 09|\n",
      "|10.315983263598326|JABON DE TOCADOR|DISTRITO FEDERAL|2011| 09|\n",
      "| 9.247619047619049|TORTILLA DE MAIZ|DISTRITO FEDERAL|2011| 09|\n",
      "|15.806568364611255|           ARROZ|DISTRITO FEDERAL|2011| 10|\n",
      "|18.445962441314556|           AVENA|DISTRITO FEDERAL|2011| 10|\n",
      "|  48.3965405904059|    CAFE SOLUBLE|DISTRITO FEDERAL|2011| 10|\n",
      "| 9.871140463917525|JABON DE TOCADOR|DISTRITO FEDERAL|2011| 10|\n",
      "| 9.201680672268907|TORTILLA DE MAIZ|DISTRITO FEDERAL|2011| 10|\n",
      "| 16.92736111111111|           ARROZ|DISTRITO FEDERAL|2011| 11|\n",
      "| 18.99133779264214|           AVENA|DISTRITO FEDERAL|2011| 11|\n",
      "|48.736484771573615|    CAFE SOLUBLE|DISTRITO FEDERAL|2011| 11|\n",
      "|           9.70727|JABON DE TOCADOR|DISTRITO FEDERAL|2011| 11|\n",
      "| 9.471634615384618|TORTILLA DE MAIZ|DISTRITO FEDERAL|2011| 11|\n",
      "|17.851777003484322|           ARROZ|DISTRITO FEDERAL|2011| 12|\n",
      "|20.014857142857142|           AVENA|DISTRITO FEDERAL|2011| 12|\n",
      "|49.612652005174645|    CAFE SOLUBLE|DISTRITO FEDERAL|2011| 12|\n",
      "|10.199678030303033|JABON DE TOCADOR|DISTRITO FEDERAL|2011| 12|\n",
      "| 9.719444444444443|TORTILLA DE MAIZ|DISTRITO FEDERAL|2011| 12|\n",
      "+------------------+----------------+----------------+----+---+\n",
      "\n"
     ]
    }
   ],
   "source": [
    "spark.sql(\n",
    "'''\n",
    "SELECT AVG(A.precio) precio, a.producto, A.estado, A.anio, A.mes FROM (\n",
    "        SELECT producto\n",
    "        , precio\n",
    "        , estado\n",
    "        --, fechaRegistro\n",
    "        , SUBSTR(fechaRegistro,1,4) ANIO\n",
    "        , SUBSTR(fechaRegistro,6,2) MES\n",
    "        FROM Tabla\n",
    "        WHERE estado='DISTRITO FEDERAL'\n",
    "        AND producto IN ('AVENA','CAFE SOLUBLE','JABON DE TOCADOR','ARROZ','TORTILLA DE MAIZ')\n",
    ") A\n",
    "GROUP BY A.producto, A.estado, A.anio, A.mes\n",
    "ORDER BY A.anio, A.mes, A.estado, A.producto\n",
    "LIMIT 60\n",
    "'''\n",
    ").show(60)"
   ]
  },
  {
   "cell_type": "markdown",
   "metadata": {},
   "source": [
    "d. ¿Cuál es el estado más caro y en qué mes?\n",
    "\n",
    "Retomando el punto b en el que mencionamos que Sonora era el estado más caro, y el punto c en el que se menciona que a lo largo del año el alza de los precios es una constante, el mes más caro es diciembre."
   ]
  },
  {
   "cell_type": "markdown",
   "metadata": {},
   "source": [
    "e. ¿Cuáles son los principales riesgos de hacer análisis de series de tiempo con\n",
    "estos datos?\n",
    "\n",
    "De entrada la base está sucia, pese a que los campos sucios de momento sólo se me han presentado en campos distintos a la fecha, no dudo que dicho campo también pueda estar mal en algunos casos.\n"
   ]
  },
  {
   "cell_type": "markdown",
   "metadata": {},
   "source": [
    "### 3. Visualización\n",
    "\n",
    "a. Genera un mapa que nos permita identificar la oferta de categorías en la zona metropolitana de León Guanajuato y el nivel de precios en cada una de ellas. Se darán puntos extra si el mapa es interactivo"
   ]
  },
  {
   "cell_type": "code",
   "execution_count": null,
   "metadata": {},
   "outputs": [],
   "source": []
  }
 ],
 "metadata": {
  "kernelspec": {
   "display_name": "Python 3",
   "language": "python",
   "name": "python3"
  },
  "language_info": {
   "codemirror_mode": {
    "name": "ipython",
    "version": 3
   },
   "file_extension": ".py",
   "mimetype": "text/x-python",
   "name": "python",
   "nbconvert_exporter": "python",
   "pygments_lexer": "ipython3",
   "version": "3.7.4"
  }
 },
 "nbformat": 4,
 "nbformat_minor": 4
}
